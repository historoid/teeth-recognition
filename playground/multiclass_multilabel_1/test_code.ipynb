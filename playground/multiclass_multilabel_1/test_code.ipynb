{
 "cells": [
  {
   "cell_type": "code",
   "execution_count": 16,
   "metadata": {},
   "outputs": [
    {
     "name": "stderr",
     "output_type": "stream",
     "text": [
      "Using TensorFlow backend.\n"
     ]
    }
   ],
   "source": [
    "import os\n",
    "import shutil\n",
    "import random\n",
    "import keras\n",
    "import numpy as np\n",
    "import pandas as pd\n",
    "import matplotlib.pyplot as plt\n",
    "from keras import layers\n",
    "from keras import models\n",
    "from keras import optimizers\n",
    "from keras.utils import np_utils\n",
    "from keras.models import Sequential\n",
    "from keras.layers.core import Dense, Dropout, Activation, Flatten\n",
    "from keras.layers.convolutional import Conv2D, MaxPooling2D\n",
    "from keras.preprocessing.image import ImageDataGenerator\n",
    "from keras.preprocessing.image import array_to_img, img_to_array, list_pictures, load_img\n",
    "from sklearn.model_selection import train_test_split"
   ]
  },
  {
   "cell_type": "code",
   "execution_count": 67,
   "metadata": {},
   "outputs": [],
   "source": [
    "img_size = 64\n",
    "sample_size = 5000\n",
    "dir_name = '20190222'\n",
    "height = img_size\n",
    "width = img_size\n",
    "channels = 3\n",
    "num_classes = 32"
   ]
  },
  {
   "cell_type": "code",
   "execution_count": 68,
   "metadata": {},
   "outputs": [
    {
     "ename": "FileExistsError",
     "evalue": "[Errno 17] File exists: '/Users/seino/Documents/res/09_DeepLearning/playground/20190222'",
     "output_type": "error",
     "traceback": [
      "\u001b[0;31m---------------------------------------------------------------------------\u001b[0m",
      "\u001b[0;31mFileExistsError\u001b[0m                           Traceback (most recent call last)",
      "\u001b[0;32m<ipython-input-68-6de8647e3447>\u001b[0m in \u001b[0;36m<module>\u001b[0;34m()\u001b[0m\n\u001b[1;32m     12\u001b[0m \u001b[0mstore_dir\u001b[0m \u001b[0;34m=\u001b[0m \u001b[0mos\u001b[0m\u001b[0;34m.\u001b[0m\u001b[0mpath\u001b[0m\u001b[0;34m.\u001b[0m\u001b[0mjoin\u001b[0m\u001b[0;34m(\u001b[0m\u001b[0mpresent_dir\u001b[0m\u001b[0;34m,\u001b[0m \u001b[0;34m'dataset'\u001b[0m\u001b[0;34m)\u001b[0m\u001b[0;34m\u001b[0m\u001b[0m\n\u001b[1;32m     13\u001b[0m \u001b[0mmy_log_dir\u001b[0m \u001b[0;34m=\u001b[0m \u001b[0mos\u001b[0m\u001b[0;34m.\u001b[0m\u001b[0mpath\u001b[0m\u001b[0;34m.\u001b[0m\u001b[0mjoin\u001b[0m\u001b[0;34m(\u001b[0m\u001b[0mpresent_dir\u001b[0m\u001b[0;34m,\u001b[0m \u001b[0;34m'log_dir'\u001b[0m\u001b[0;34m)\u001b[0m\u001b[0;34m\u001b[0m\u001b[0m\n\u001b[0;32m---> 14\u001b[0;31m \u001b[0mos\u001b[0m\u001b[0;34m.\u001b[0m\u001b[0mmkdir\u001b[0m\u001b[0;34m(\u001b[0m\u001b[0mpresent_dir\u001b[0m\u001b[0;34m)\u001b[0m\u001b[0;34m\u001b[0m\u001b[0m\n\u001b[0m\u001b[1;32m     15\u001b[0m \u001b[0mos\u001b[0m\u001b[0;34m.\u001b[0m\u001b[0mmkdir\u001b[0m\u001b[0;34m(\u001b[0m\u001b[0mmy_log_dir\u001b[0m\u001b[0;34m)\u001b[0m\u001b[0;34m\u001b[0m\u001b[0m\n\u001b[1;32m     16\u001b[0m \u001b[0mos\u001b[0m\u001b[0;34m.\u001b[0m\u001b[0mmkdir\u001b[0m\u001b[0;34m(\u001b[0m\u001b[0mstore_dir\u001b[0m\u001b[0;34m)\u001b[0m\u001b[0;34m\u001b[0m\u001b[0m\n",
      "\u001b[0;31mFileExistsError\u001b[0m: [Errno 17] File exists: '/Users/seino/Documents/res/09_DeepLearning/playground/20190222'"
     ]
    }
   ],
   "source": [
    "res_dir = '/Users/seino/Documents/res/09_DeepLearning/'\n",
    "img_dir = os.path.join(res_dir, \"img\")\n",
    "to_dir = os.path.join(img_dir, 'Teeth_Only')\n",
    "wg_dir = os.path.join(img_dir, 'With_Gingiva')\n",
    "to_lo = os.path.join(to_dir, 'Lo')\n",
    "to_up = os.path.join(to_dir, 'Up')\n",
    "wg_lo = os.path.join(wg_dir, 'Lo')\n",
    "wg_up = os.path.join(wg_dir, 'Up')\n",
    "target_list = [to_lo, to_up, wg_lo, wg_up]\n",
    "playground_dir = os.path.join(res_dir, 'playground')\n",
    "present_dir = os.path.join(playground_dir, dir_name)\n",
    "store_dir = os.path.join(present_dir, 'dataset')\n",
    "my_log_dir = os.path.join(present_dir, 'log_dir')\n",
    "os.mkdir(present_dir)\n",
    "os.mkdir(my_log_dir)\n",
    "os.mkdir(store_dir)"
   ]
  },
  {
   "cell_type": "code",
   "execution_count": 69,
   "metadata": {},
   "outputs": [],
   "source": [
    "def k_hot_encode(fn):\n",
    "    dent = [\n",
    "    11, 12, 13, 14, 15, 16, 17, 18,\n",
    "    21, 22, 23, 24, 25, 26, 27, 28,\n",
    "    31, 32, 33, 34, 35, 36, 37, 38,\n",
    "    41, 42, 43, 44, 45, 46, 47, 48]\n",
    "    k_hot_dentition = [0]*32\n",
    "    fn = fn.strip('[').strip('.png').strip(']')\n",
    "    fn = fn.split(',')\n",
    "    fn = [int(k) for k in fn]\n",
    "    for t in fn:\n",
    "        if t in dent:\n",
    "            p = dent.index(t)\n",
    "            k_hot_dentition[p] = 1\n",
    "    return k_hot_dentition"
   ]
  },
  {
   "cell_type": "code",
   "execution_count": 71,
   "metadata": {},
   "outputs": [],
   "source": [
    "for target in target_list:\n",
    "    target_dir = os.path.join(target, str(img_size))\n",
    "    fn = os.listdir(target_dir)\n",
    "    random.shuffle(fn)\n",
    "    extract_fn = fn[:sample_size//4]\n",
    "    for k in extract_fn:\n",
    "        src = os.path.join(target_dir, k)\n",
    "        dst = os.path.join(store_dir,k)\n",
    "        shutil.copyfile(src, dst)"
   ]
  },
  {
   "cell_type": "code",
   "execution_count": 73,
   "metadata": {},
   "outputs": [],
   "source": [
    "X = []\n",
    "Y = []\n",
    "fn = os.listdir(store_dir)\n",
    "fn.remove('.DS_Store')\n",
    "for tl in fn:\n",
    "    dst = os.path.join(store_dir, tl)\n",
    "    img = img_to_array(load_img(dst))\n",
    "    X.append(img)\n",
    "    k_hot_dentition = k_hot_encode(tl)\n",
    "    Y.insert(-1, k_hot_dentition)"
   ]
  },
  {
   "cell_type": "code",
   "execution_count": 74,
   "metadata": {},
   "outputs": [],
   "source": [
    "X = np.asarray(X)\n",
    "Y = np.asarray(Y)\n",
    "X = X.astype('float32')\n",
    "X = X / 255.0\n",
    "X_train, X_test, y_train, y_test = train_test_split(X, Y, test_size=0.3, random_state=111)"
   ]
  },
  {
   "cell_type": "code",
   "execution_count": 75,
   "metadata": {},
   "outputs": [
    {
     "name": "stdout",
     "output_type": "stream",
     "text": [
      "_________________________________________________________________\n",
      "Layer (type)                 Output Shape              Param #   \n",
      "=================================================================\n",
      "separable_conv2d_7 (Separabl (None, 62, 62, 128)       539       \n",
      "_________________________________________________________________\n",
      "separable_conv2d_8 (Separabl (None, 60, 60, 256)       34176     \n",
      "_________________________________________________________________\n",
      "max_pooling2d_3 (MaxPooling2 (None, 30, 30, 256)       0         \n",
      "_________________________________________________________________\n",
      "separable_conv2d_9 (Separabl (None, 28, 28, 256)       68096     \n",
      "_________________________________________________________________\n",
      "separable_conv2d_10 (Separab (None, 26, 26, 512)       133888    \n",
      "_________________________________________________________________\n",
      "max_pooling2d_4 (MaxPooling2 (None, 13, 13, 512)       0         \n",
      "_________________________________________________________________\n",
      "separable_conv2d_11 (Separab (None, 11, 11, 128)       70272     \n",
      "_________________________________________________________________\n",
      "separable_conv2d_12 (Separab (None, 9, 9, 64)          9408      \n",
      "_________________________________________________________________\n",
      "global_average_pooling2d_2 ( (None, 64)                0         \n",
      "_________________________________________________________________\n",
      "dense_3 (Dense)              (None, 128)               8320      \n",
      "_________________________________________________________________\n",
      "dense_4 (Dense)              (None, 32)                4128      \n",
      "=================================================================\n",
      "Total params: 328,827\n",
      "Trainable params: 328,827\n",
      "Non-trainable params: 0\n",
      "_________________________________________________________________\n"
     ]
    }
   ],
   "source": [
    "model = models.Sequential()\n",
    "model.add(layers.SeparableConv2D(128, 3, activation='relu', input_shape=(height, width, channels)))\n",
    "model.add(layers.SeparableConv2D(256, 3, activation='relu'))\n",
    "model.add(layers.MaxPooling2D(2))\n",
    "model.add(layers.SeparableConv2D(256, 3, activation='relu'))\n",
    "model.add(layers.SeparableConv2D(512, 3, activation='relu'))\n",
    "model.add(layers.MaxPooling2D(2))\n",
    "model.add(layers.SeparableConv2D(128, 3, activation='relu'))\n",
    "model.add(layers.SeparableConv2D(64, 3, activation='relu'))\n",
    "model.add(layers.GlobalAveragePooling2D())\n",
    "model.add(layers.Dense(128, activation='relu'))\n",
    "model.add(layers.Dense(num_classes, activation='sigmoid'))\n",
    "model.compile(optimizer='rmsprop', loss='binary_crossentropy', metrics=['acc'])\n",
    "model.summary()"
   ]
  },
  {
   "cell_type": "code",
   "execution_count": 77,
   "metadata": {},
   "outputs": [],
   "source": [
    "callbacks = [\n",
    "    keras.callbacks.TensorBoard(\n",
    "        log_dir = my_log_dir,\n",
    "        histogram_freq=1,\n",
    "        embeddings_freq=1\n",
    "        )\n",
    "]"
   ]
  },
  {
   "cell_type": "code",
   "execution_count": 78,
   "metadata": {},
   "outputs": [],
   "source": [
    "history = model.fit(X_train, y_train, batch_size=20, epochs=5, validation_data = (X_test, y_test), verbose = 0)"
   ]
  },
  {
   "cell_type": "code",
   "execution_count": 79,
   "metadata": {},
   "outputs": [
    {
     "data": {
      "image/png": "[encoded data removed]",
      "text/plain": [
       "<matplotlib.figure.Figure at 0x1c319ba6a0>"
      ]
     },
     "metadata": {},
     "output_type": "display_data"
    }
   ],
   "source": [
    "plt.plot(history.history['acc'])\n",
    "plt.plot(history.history['val_acc'])\n",
    "plt.title('model accuracy')\n",
    "plt.xlabel('epoch')\n",
    "plt.ylabel('accuracy')\n",
    "plt.legend(['acc', 'val_acc'], loc='lower right')\n",
    "plt.show()"
   ]
  },
  {
   "cell_type": "code",
   "execution_count": null,
   "metadata": {},
   "outputs": [],
   "source": []
  }
 ],
 "metadata": {
  "kernelspec": {
   "display_name": "Python 3",
   "language": "python",
   "name": "python3"
  },
  "language_info": {
   "codemirror_mode": {
    "name": "ipython",
    "version": 3
   },
   "file_extension": ".py",
   "mimetype": "text/x-python",
   "name": "python",
   "nbconvert_exporter": "python",
   "pygments_lexer": "ipython3",
   "version": "3.6.4"
  }
 },
 "nbformat": 4,
 "nbformat_minor": 2
}
