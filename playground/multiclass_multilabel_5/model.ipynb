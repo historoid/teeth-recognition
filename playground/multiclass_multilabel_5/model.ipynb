{
 "cells": [
  {
   "cell_type": "code",
   "execution_count": 1,
   "metadata": {
    "lines_to_next_cell": 2
   },
   "outputs": [
    {
     "name": "stderr",
     "output_type": "stream",
     "text": [
      "Using TensorFlow backend.\n"
     ]
    }
   ],
   "source": [
    "# %%\n",
    "import re\n",
    "import keras\n",
    "import pathlib\n",
    "import random\n",
    "import numpy as np\n",
    "import matplotlib.pyplot as plt\n",
    "from sklearn.model_selection import train_test_split\n",
    "from keras import layers\n",
    "from keras import models\n",
    "from keras.utils import plot_model\n",
    "from keras.models import load_model\n",
    "from keras.models import Sequential\n",
    "from keras.preprocessing.image import img_to_array, load_img\n",
    "from keras.layers.core import Dense, Dropout, Activation, Flatten\n",
    "from keras.callbacks import EarlyStopping, TensorBoard, ModelCheckpoint\n",
    "from keras.layers.convolutional import Conv2D, MaxPooling2D, SeparableConv2D"
   ]
  },
  {
   "cell_type": "code",
   "execution_count": 2,
   "metadata": {},
   "outputs": [],
   "source": [
    "# %%\n",
    "num_classes = 32\n",
    "height, width, channels = 32, 32, 3\n",
    "using_img_num = 1000\n",
    "dent = [\n",
    "    11, 12, 13, 14, 15, 16, 17, 18,\n",
    "    21, 22, 23, 24, 25, 26, 27, 28,\n",
    "    31, 32, 33, 34, 35, 36, 37, 38,\n",
    "    41, 42, 43, 44, 45, 46, 47, 48\n",
    "    ]\n",
    "data_path = '/Users/seino/Documents/research/DeepLearning/playground/multiclass_multilabel_5/32'\n",
    "data_obj = pathlib.Path(data_path)\n",
    "all_img = list(data_obj.glob('*.png'))\n",
    "using_img = random.sample(all_img, using_img_num)\n",
    "x = []\n",
    "y = []\n",
    "for each_img in using_img:\n",
    "    # 画像を数値に変換\n",
    "    x_img = load_img(each_img)\n",
    "    x_array = img_to_array(x_img)\n",
    "    x.append(x_array)\n",
    "    # ファイル名をラベルに変換\n",
    "    fname = each_img.name\n",
    "    fname = re.sub('.*-', '', fname)\n",
    "    fname = fname.strip('.png')\n",
    "    fname = fname.split(',')\n",
    "    fname = [int(k) for k in fname]\n",
    "    teeth = [0]*32\n",
    "    for i in fname:\n",
    "        indx = dent.index(i)\n",
    "        teeth[indx] = 1\n",
    "    y.append(teeth)\n",
    "# xとyが出揃ってから処理すべきもの\n",
    "x = np.asarray(x)\n",
    "x = x.astype('float32')\n",
    "x = x/255.0\n",
    "y = np.asarray(y)\n",
    "# 訓練ファイルと検証ファイルを分割\n",
    "x_train, x_test, y_train, y_test = train_test_split(x, y, test_size=0.3)"
   ]
  },
  {
   "cell_type": "code",
   "execution_count": 5,
   "metadata": {},
   "outputs": [
    {
     "name": "stderr",
     "output_type": "stream",
     "text": [
      "WARNING: Logging before flag parsing goes to stderr.\n",
      "W0924 14:39:11.245496 4591400384 deprecation_wrapper.py:119] From /Users/seino/anaconda3/lib/python3.7/site-packages/keras/backend/tensorflow_backend.py:131: The name tf.get_default_graph is deprecated. Please use tf.compat.v1.get_default_graph instead.\n",
      "\n",
      "W0924 14:39:11.258543 4591400384 deprecation.py:506] From /Users/seino/anaconda3/lib/python3.7/site-packages/keras/backend/tensorflow_backend.py:3445: calling dropout (from tensorflow.python.ops.nn_ops) with keep_prob is deprecated and will be removed in a future version.\n",
      "Instructions for updating:\n",
      "Please use `rate` instead of `keep_prob`. Rate should be set to `rate = 1 - keep_prob`.\n",
      "W0924 14:39:11.659076 4591400384 deprecation.py:323] From /Users/seino/anaconda3/lib/python3.7/site-packages/tensorflow/python/ops/nn_impl.py:180: add_dispatch_support.<locals>.wrapper (from tensorflow.python.ops.array_ops) is deprecated and will be removed in a future version.\n",
      "Instructions for updating:\n",
      "Use tf.where in 2.0, which has the same broadcast rule as np.where\n"
     ]
    },
    {
     "name": "stdout",
     "output_type": "stream",
     "text": [
      "_________________________________________________________________\n",
      "Layer (type)                 Output Shape              Param #   \n",
      "=================================================================\n",
      "separable_conv2d_1 (Separabl (None, 30, 30, 32)        155       \n",
      "_________________________________________________________________\n",
      "separable_conv2d_2 (Separabl (None, 28, 28, 64)        2400      \n",
      "_________________________________________________________________\n",
      "max_pooling2d_1 (MaxPooling2 (None, 14, 14, 64)        0         \n",
      "_________________________________________________________________\n",
      "dropout_1 (Dropout)          (None, 14, 14, 64)        0         \n",
      "_________________________________________________________________\n",
      "max_pooling2d_2 (MaxPooling2 (None, 7, 7, 64)          0         \n",
      "_________________________________________________________________\n",
      "separable_conv2d_3 (Separabl (None, 5, 5, 64)          4736      \n",
      "_________________________________________________________________\n",
      "separable_conv2d_4 (Separabl (None, 3, 3, 128)         8896      \n",
      "_________________________________________________________________\n",
      "dropout_2 (Dropout)          (None, 3, 3, 128)         0         \n",
      "_________________________________________________________________\n",
      "global_average_pooling2d_1 ( (None, 128)               0         \n",
      "_________________________________________________________________\n",
      "dense_1 (Dense)              (None, 64)                8256      \n",
      "_________________________________________________________________\n",
      "dense_2 (Dense)              (None, 32)                2080      \n",
      "=================================================================\n",
      "Total params: 26,523\n",
      "Trainable params: 26,523\n",
      "Non-trainable params: 0\n",
      "_________________________________________________________________\n"
     ]
    }
   ],
   "source": [
    "# %%\n",
    "height, width, channels = 32, 32, 3\n",
    "hidden_units = 4  # 1 is baseline\n",
    "input_param = 32  # 32 is baseline\n",
    "dropout_rate = 0.4  # 0.1 is baseline\n",
    "batch_p = 60  # 100 is baseline\n",
    "epoch_p = 50  # 10 is baseline\n",
    "model = models.Sequential()\n",
    "model.add(layers.SeparableConv2D(\n",
    "    input_param, 3, activation='relu',\n",
    "    input_shape=(height, width, channels)))\n",
    "model.add(layers.SeparableConv2D(input_param*2, 3, activation='relu'))\n",
    "model.add(layers.MaxPooling2D(2))\n",
    "model.add(layers.Dropout(dropout_rate))\n",
    "model.add(layers.MaxPooling2D(2))\n",
    "model.add(layers.SeparableConv2D(input_param*2, 3, activation='relu'))\n",
    "model.add(layers.SeparableConv2D(input_param*4, 3, activation='relu'))\n",
    "model.add(layers.Dropout(dropout_rate))\n",
    "model.add(layers.GlobalAveragePooling2D())\n",
    "model.add(layers.Dense(input_param*2, activation='relu'))\n",
    "model.add(layers.Dense(num_classes, activation='sigmoid'))\n",
    "model.compile(optimizer='rmsprop', loss='binary_crossentropy', metrics=['acc'])\n",
    "model.summary()\n",
    "model_arch_name = 'R' + str(input_param) + '-H' + str(hidden_units) + '-D'\\\n",
    "    + str(int(dropout_rate*100)) + '-B' + str(batch_p) + '-E' + str(epoch_p)\n",
    "plot_model(model, show_shapes=True, to_file='./'+model_arch_name+'.png')"
   ]
  },
  {
   "cell_type": "code",
   "execution_count": 6,
   "metadata": {},
   "outputs": [
    {
     "name": "stderr",
     "output_type": "stream",
     "text": [
      "W0924 14:39:32.863621 4591400384 deprecation_wrapper.py:119] From /Users/seino/anaconda3/lib/python3.7/site-packages/keras/backend/tensorflow_backend.py:986: The name tf.assign_add is deprecated. Please use tf.compat.v1.assign_add instead.\n",
      "\n",
      "W0924 14:39:32.876513 4591400384 deprecation_wrapper.py:119] From /Users/seino/anaconda3/lib/python3.7/site-packages/keras/backend/tensorflow_backend.py:973: The name tf.assign is deprecated. Please use tf.compat.v1.assign instead.\n",
      "\n",
      "W0924 14:39:33.239872 4591400384 deprecation_wrapper.py:119] From /Users/seino/anaconda3/lib/python3.7/site-packages/keras/backend/tensorflow_backend.py:2741: The name tf.Session is deprecated. Please use tf.compat.v1.Session instead.\n",
      "\n",
      "W0924 14:39:33.250580 4591400384 deprecation_wrapper.py:119] From /Users/seino/anaconda3/lib/python3.7/site-packages/keras/backend/tensorflow_backend.py:174: The name tf.get_default_session is deprecated. Please use tf.compat.v1.get_default_session instead.\n",
      "\n"
     ]
    },
    {
     "name": "stdout",
     "output_type": "stream",
     "text": [
      "Train on 700 samples, validate on 300 samples\n",
      "Epoch 1/50\n",
      "700/700 [==============================] - 3s 4ms/step - loss: 0.6845 - acc: 0.6473 - val_loss: 0.6630 - val_acc: 0.6754\n",
      "Epoch 2/50\n",
      "700/700 [==============================] - 1s 2ms/step - loss: 0.6381 - acc: 0.6670 - val_loss: 0.6160 - val_acc: 0.6967\n",
      "Epoch 3/50\n",
      "700/700 [==============================] - 1s 2ms/step - loss: 0.6191 - acc: 0.6802 - val_loss: 0.6124 - val_acc: 0.6967\n",
      "Epoch 4/50\n",
      "700/700 [==============================] - 1s 2ms/step - loss: 0.6123 - acc: 0.6802 - val_loss: 0.6074 - val_acc: 0.6967\n",
      "Epoch 5/50\n",
      "700/700 [==============================] - 1s 2ms/step - loss: 0.6099 - acc: 0.6802 - val_loss: 0.6070 - val_acc: 0.6967\n",
      "Epoch 6/50\n",
      "700/700 [==============================] - 1s 2ms/step - loss: 0.6070 - acc: 0.6802 - val_loss: 0.6072 - val_acc: 0.6967\n",
      "Epoch 7/50\n",
      "700/700 [==============================] - 1s 1ms/step - loss: 0.6031 - acc: 0.6802 - val_loss: 0.6023 - val_acc: 0.6967\n",
      "Epoch 8/50\n",
      "700/700 [==============================] - 1s 1ms/step - loss: 0.5966 - acc: 0.6802 - val_loss: 0.5889 - val_acc: 0.6967\n",
      "Epoch 9/50\n",
      "700/700 [==============================] - 1s 1ms/step - loss: 0.5892 - acc: 0.6795 - val_loss: 0.5849 - val_acc: 0.6967\n",
      "Epoch 10/50\n",
      "700/700 [==============================] - 1s 1ms/step - loss: 0.5841 - acc: 0.6783 - val_loss: 0.5868 - val_acc: 0.6949\n",
      "Epoch 11/50\n",
      "700/700 [==============================] - 1s 1ms/step - loss: 0.5813 - acc: 0.6785 - val_loss: 0.5817 - val_acc: 0.6967\n",
      "Epoch 12/50\n",
      "700/700 [==============================] - 1s 1ms/step - loss: 0.5790 - acc: 0.6785 - val_loss: 0.5799 - val_acc: 0.6967\n",
      "Epoch 13/50\n",
      "700/700 [==============================] - 1s 1ms/step - loss: 0.5783 - acc: 0.6773 - val_loss: 0.5768 - val_acc: 0.6967\n",
      "Epoch 14/50\n",
      "700/700 [==============================] - 1s 1ms/step - loss: 0.5767 - acc: 0.6785 - val_loss: 0.5735 - val_acc: 0.6967\n",
      "Epoch 15/50\n",
      "700/700 [==============================] - 1s 1ms/step - loss: 0.5780 - acc: 0.6795 - val_loss: 0.5736 - val_acc: 0.6978\n",
      "Epoch 16/50\n",
      "700/700 [==============================] - 1s 1ms/step - loss: 0.5762 - acc: 0.6799 - val_loss: 0.5752 - val_acc: 0.6964\n",
      "Epoch 17/50\n",
      "700/700 [==============================] - 1s 1ms/step - loss: 0.5751 - acc: 0.6810 - val_loss: 0.5786 - val_acc: 0.6976\n",
      "Epoch 18/50\n",
      "700/700 [==============================] - 1s 1ms/step - loss: 0.5748 - acc: 0.6796 - val_loss: 0.5766 - val_acc: 0.6967\n",
      "Epoch 19/50\n",
      "700/700 [==============================] - 1s 1ms/step - loss: 0.5734 - acc: 0.6818 - val_loss: 0.5790 - val_acc: 0.6981\n",
      "Epoch 20/50\n",
      "700/700 [==============================] - 1s 1ms/step - loss: 0.5730 - acc: 0.6808 - val_loss: 0.5777 - val_acc: 0.6967\n",
      "Epoch 21/50\n",
      "700/700 [==============================] - 1s 1ms/step - loss: 0.5719 - acc: 0.6800 - val_loss: 0.5742 - val_acc: 0.7028\n",
      "Epoch 22/50\n",
      "700/700 [==============================] - 1s 1ms/step - loss: 0.5681 - acc: 0.6820 - val_loss: 0.5656 - val_acc: 0.6997\n",
      "Epoch 23/50\n",
      "700/700 [==============================] - 1s 1ms/step - loss: 0.5676 - acc: 0.6828 - val_loss: 0.5779 - val_acc: 0.7011\n",
      "Epoch 24/50\n",
      "700/700 [==============================] - 1s 1ms/step - loss: 0.5657 - acc: 0.6848 - val_loss: 0.5782 - val_acc: 0.7045\n",
      "Epoch 25/50\n",
      "700/700 [==============================] - 1s 1ms/step - loss: 0.5627 - acc: 0.6892 - val_loss: 0.5678 - val_acc: 0.7070\n",
      "Epoch 26/50\n",
      "700/700 [==============================] - 1s 1ms/step - loss: 0.5621 - acc: 0.6916 - val_loss: 0.5651 - val_acc: 0.7045\n",
      "Epoch 27/50\n",
      "700/700 [==============================] - 1s 1ms/step - loss: 0.5606 - acc: 0.6893 - val_loss: 0.5628 - val_acc: 0.7045\n",
      "Epoch 28/50\n",
      "700/700 [==============================] - 1s 1ms/step - loss: 0.5588 - acc: 0.6951 - val_loss: 0.5692 - val_acc: 0.7067\n",
      "Epoch 29/50\n",
      "700/700 [==============================] - 1s 1ms/step - loss: 0.5586 - acc: 0.6975 - val_loss: 0.5667 - val_acc: 0.7058\n",
      "Epoch 30/50\n",
      "700/700 [==============================] - 1s 1ms/step - loss: 0.5572 - acc: 0.6966 - val_loss: 0.5591 - val_acc: 0.7049\n",
      "Epoch 31/50\n",
      "700/700 [==============================] - 1s 1ms/step - loss: 0.5576 - acc: 0.6970 - val_loss: 0.5597 - val_acc: 0.7039\n",
      "Epoch 32/50\n",
      "700/700 [==============================] - 1s 1ms/step - loss: 0.5552 - acc: 0.6951 - val_loss: 0.5644 - val_acc: 0.7085\n",
      "Epoch 33/50\n",
      "700/700 [==============================] - 1s 2ms/step - loss: 0.5546 - acc: 0.6975 - val_loss: 0.5665 - val_acc: 0.7083\n",
      "Epoch 34/50\n",
      "700/700 [==============================] - 1s 1ms/step - loss: 0.5513 - acc: 0.6994 - val_loss: 0.5520 - val_acc: 0.7051\n",
      "Epoch 35/50\n",
      "700/700 [==============================] - 1s 1ms/step - loss: 0.5514 - acc: 0.6980 - val_loss: 0.5623 - val_acc: 0.7107\n",
      "Epoch 36/50\n",
      "700/700 [==============================] - 1s 2ms/step - loss: 0.5481 - acc: 0.6977 - val_loss: 0.5629 - val_acc: 0.7093\n",
      "Epoch 37/50\n",
      "700/700 [==============================] - 1s 2ms/step - loss: 0.5471 - acc: 0.6979 - val_loss: 0.5617 - val_acc: 0.7139\n",
      "Epoch 38/50\n",
      "700/700 [==============================] - 1s 2ms/step - loss: 0.5439 - acc: 0.7005 - val_loss: 0.5427 - val_acc: 0.7067\n",
      "Epoch 39/50\n",
      "700/700 [==============================] - 1s 2ms/step - loss: 0.5420 - acc: 0.6999 - val_loss: 0.5559 - val_acc: 0.7100\n",
      "Epoch 40/50\n",
      "700/700 [==============================] - 1s 2ms/step - loss: 0.5423 - acc: 0.7018 - val_loss: 0.5457 - val_acc: 0.7138\n",
      "Epoch 41/50\n",
      "700/700 [==============================] - 1s 2ms/step - loss: 0.5390 - acc: 0.7002 - val_loss: 0.5422 - val_acc: 0.7153\n",
      "Epoch 42/50\n",
      "700/700 [==============================] - 1s 2ms/step - loss: 0.5370 - acc: 0.7030 - val_loss: 0.5368 - val_acc: 0.7149\n",
      "Epoch 43/50\n",
      "700/700 [==============================] - 1s 2ms/step - loss: 0.5338 - acc: 0.7067 - val_loss: 0.5335 - val_acc: 0.7123\n",
      "Epoch 44/50\n",
      "700/700 [==============================] - 1s 2ms/step - loss: 0.5295 - acc: 0.7046 - val_loss: 0.5662 - val_acc: 0.6921\n",
      "Epoch 45/50\n",
      "700/700 [==============================] - 1s 2ms/step - loss: 0.5316 - acc: 0.7038 - val_loss: 0.5329 - val_acc: 0.7146\n",
      "Epoch 46/50\n",
      "700/700 [==============================] - 1s 1ms/step - loss: 0.5271 - acc: 0.7071 - val_loss: 0.5425 - val_acc: 0.7121\n",
      "Epoch 47/50\n",
      "700/700 [==============================] - 1s 2ms/step - loss: 0.5251 - acc: 0.7086 - val_loss: 0.5340 - val_acc: 0.7194\n",
      "Epoch 48/50\n",
      "700/700 [==============================] - 1s 2ms/step - loss: 0.5289 - acc: 0.7078 - val_loss: 0.5295 - val_acc: 0.7182\n",
      "Epoch 49/50\n",
      "700/700 [==============================] - 1s 2ms/step - loss: 0.5243 - acc: 0.7075 - val_loss: 0.5287 - val_acc: 0.7202\n",
      "Epoch 50/50\n",
      "700/700 [==============================] - 1s 2ms/step - loss: 0.5228 - acc: 0.7079 - val_loss: 0.5322 - val_acc: 0.7168\n"
     ]
    },
    {
     "data": {
      "image/png": "[encoded data removed]",
      "text/plain": [
       "<Figure size 432x288 with 1 Axes>"
      ]
     },
     "metadata": {
      "needs_background": "light"
     },
     "output_type": "display_data"
    }
   ],
   "source": [
    "history = model.fit(\n",
    "    x_train, y_train,\n",
    "    batch_size=batch_p,\n",
    "    epochs=epoch_p,\n",
    "    validation_data=(x_test, y_test),\n",
    "    verbose=1)\n",
    "model.save('./'+model_arch_name+'.h5')\n",
    "plt.plot(history.history['acc'])\n",
    "plt.plot(history.history['val_acc'])\n",
    "plt.title(model_arch_name)\n",
    "plt.xlabel('epoch')\n",
    "plt.ylabel('accuracy')\n",
    "plt.legend(['train_acc', 'val_acc'], loc='lower right')\n",
    "plt.savefig('./acc_'+model_arch_name+'.png')\n",
    "plt.show()"
   ]
  },
  {
   "cell_type": "code",
   "execution_count": null,
   "metadata": {},
   "outputs": [],
   "source": [
    "jpg_name = 'F64ULG-15,17,22,31,34,36,37,43,46,47'\n",
    "model_file_name = 'R32-H4-D40-B60-E50.h5'"
   ]
  },
  {
   "cell_type": "code",
   "execution_count": null,
   "metadata": {},
   "outputs": [],
   "source": [
    "model = load_model('/Users/seino/Documents/research/DeepLearning/playground/\\\n",
    "    multiclass_multilabel_5/log/R32-H4-D40-B60-E50.h5')"
   ]
  },
  {
   "cell_type": "code",
   "execution_count": null,
   "metadata": {},
   "outputs": [],
   "source": [
    "img_path = ('/Users/seino/Documents/research/DeepLearning/playground/img/32/\\\n",
    "    F32ULG-15,25,34,35,37,43,44,47.png')\n",
    "img = img_to_array(load_img(img_path, target_size=(32, 32)))\n",
    "img_nad = img_to_array(img)/255\n",
    "img_nad = img_nad[None, ...]"
   ]
  },
  {
   "cell_type": "code",
   "execution_count": null,
   "metadata": {},
   "outputs": [],
   "source": [
    "label = [\n",
    "    11, 12, 13, 14, 15, 16, 17, 18,\n",
    "    21, 22, 23, 24, 25, 26, 27, 28,\n",
    "    31, 32, 33, 34, 35, 36, 37, 38,\n",
    "    41, 42, 43, 44, 45, 46, 47, 48\n",
    "]\n",
    "pred = model.predict(img_nad, batch_size=1, verbose=0)\n",
    "score = np.max(pred)\n",
    "pred_label = label[np.argmax(pred[0])]\n",
    "print('name:', pred_label)\n",
    "print('score:', score)\n",
    "plt.imshow(load_img(img_path))"
   ]
  },
  {
   "cell_type": "code",
   "execution_count": 3,
   "metadata": {},
   "outputs": [
    {
     "name": "stdout",
     "output_type": "stream",
     "text": [
      "47 <class 'int'>\n",
      "[[1.7654300e-03 1.0549575e-02 3.4627914e-03 1.5094191e-02 9.8544943e-01\n",
      "  2.7576089e-04 7.9184771e-05 0.0000000e+00 2.1110773e-03 7.0286691e-03\n",
      "  7.2989225e-02 2.4187297e-02 7.7680504e-01 3.9176643e-03 4.2974949e-05\n",
      "  0.0000000e+00 5.9298575e-02 8.1648856e-02 3.4846902e-01 6.9484520e-01\n",
      "  6.9044673e-01 5.3427786e-02 9.7522461e-01 0.0000000e+00 2.5434732e-02\n",
      "  2.5879094e-01 7.6188505e-01 6.7224103e-01 4.4277033e-01 3.4090281e-03\n",
      "  9.9993801e-01 0.0000000e+00]] <class 'numpy.ndarray'>\n"
     ]
    },
    {
     "ename": "TypeError",
     "evalue": "only integer scalar arrays can be converted to a scalar index",
     "output_type": "error",
     "traceback": [
      "\u001b[0;31m-------------------------------------------------------------------------\u001b[0m",
      "\u001b[0;31mTypeError\u001b[0m                               Traceback (most recent call last)",
      "\u001b[0;32m<ipython-input-3-fa525a32457e>\u001b[0m in \u001b[0;36m<module>\u001b[0;34m\u001b[0m\n\u001b[1;32m      1\u001b[0m \u001b[0mprint\u001b[0m\u001b[0;34m(\u001b[0m\u001b[0mpred_label\u001b[0m\u001b[0;34m,\u001b[0m \u001b[0mtype\u001b[0m\u001b[0;34m(\u001b[0m\u001b[0mpred_label\u001b[0m\u001b[0;34m)\u001b[0m\u001b[0;34m)\u001b[0m\u001b[0;34m\u001b[0m\u001b[0;34m\u001b[0m\u001b[0m\n\u001b[1;32m      2\u001b[0m \u001b[0mprint\u001b[0m\u001b[0;34m(\u001b[0m\u001b[0mpred\u001b[0m\u001b[0;34m,\u001b[0m \u001b[0mtype\u001b[0m\u001b[0;34m(\u001b[0m\u001b[0mpred\u001b[0m\u001b[0;34m)\u001b[0m\u001b[0;34m)\u001b[0m\u001b[0;34m\u001b[0m\u001b[0;34m\u001b[0m\u001b[0m\n\u001b[0;32m----> 3\u001b[0;31m \u001b[0mpred_labels\u001b[0m \u001b[0;34m=\u001b[0m \u001b[0mlabel\u001b[0m\u001b[0;34m[\u001b[0m\u001b[0mnp\u001b[0m\u001b[0;34m.\u001b[0m\u001b[0margsort\u001b[0m\u001b[0;34m(\u001b[0m\u001b[0mpred\u001b[0m\u001b[0;34m)\u001b[0m\u001b[0;34m]\u001b[0m\u001b[0;34m\u001b[0m\u001b[0;34m\u001b[0m\u001b[0m\n\u001b[0m\u001b[1;32m      4\u001b[0m \u001b[0mprint\u001b[0m\u001b[0;34m(\u001b[0m\u001b[0mpred_labels\u001b[0m\u001b[0;34m,\u001b[0m \u001b[0mtype\u001b[0m\u001b[0;34m(\u001b[0m\u001b[0mpred_labels\u001b[0m\u001b[0;34m)\u001b[0m\u001b[0;34m)\u001b[0m\u001b[0;34m\u001b[0m\u001b[0;34m\u001b[0m\u001b[0m\n",
      "\u001b[0;31mTypeError\u001b[0m: only integer scalar arrays can be converted to a scalar index"
     ]
    }
   ],
   "source": [
    "print(pred_label, type(pred_label))\n",
    "print(pred, type(pred))\n",
    "pred_labels = label[np.argsort(pred)]\n",
    "print(pred_labels, type(pred_labels))"
   ]
  }
 ],
 "metadata": {
  "jupytext": {
   "encoding": "# -*- coding: utf-8 -*-",
   "formats": "ipynb,py"
  },
  "kernelspec": {
   "display_name": "Python 3",
   "language": "python",
   "name": "python3"
  },
  "language_info": {
   "codemirror_mode": {
    "name": "ipython",
    "version": 3
   },
   "file_extension": ".py",
   "mimetype": "text/x-python",
   "name": "python",
   "nbconvert_exporter": "python",
   "pygments_lexer": "ipython3",
   "version": "3.7.3"
  }
 },
 "nbformat": 4,
 "nbformat_minor": 2
}
