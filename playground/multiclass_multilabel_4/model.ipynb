{
 "cells": [
  {
   "cell_type": "code",
   "execution_count": 1,
   "metadata": {},
   "outputs": [
    {
     "name": "stderr",
     "output_type": "stream",
     "text": [
      "Using TensorFlow backend.\n"
     ]
    }
   ],
   "source": [
    "import os\n",
    "import keras\n",
    "from keras import layers\n",
    "from keras import models\n",
    "from encode import DataSet\n",
    "import matplotlib.pyplot as plt\n",
    "from keras.models import Sequential\n",
    "from keras.layers.core import Dense, Dropout, Activation, Flatten\n",
    "from keras.callbacks import EarlyStopping, TensorBoard, ModelCheckpoint\n",
    "from keras.layers.convolutional import Conv2D, MaxPooling2D, SeparableConv2D\n",
    "from keras.utils import plot_model\n",
    "\n",
    "img_path = '/Users/seino/Documents/research/DeepLearning/playground/img/one'\n",
    "height, width, channels = 32, 32, 3\n",
    "num_classes = 32\n",
    "\n",
    "ds = DataSet(img_path)\n",
    "b = ds.make_digit()\n",
    "c = ds.k_hot_encode()\n",
    "x_train, x_test, y_train, y_test = ds.like_mnist(b,c, 0.2)"
   ]
  },
  {
   "cell_type": "code",
   "execution_count": 9,
   "metadata": {},
   "outputs": [
    {
     "data": {
      "text/plain": [
       "<matplotlib.image.AxesImage at 0x1a5d8587f0>"
      ]
     },
     "execution_count": 9,
     "metadata": {},
     "output_type": "execute_result"
    },
    {
     "data": {
      "image/png": "[encoded data removed]",
      "text/plain": [
       "<Figure size 432x288 with 1 Axes>"
      ]
     },
     "metadata": {
      "needs_background": "light"
     },
     "output_type": "display_data"
    }
   ],
   "source": [
    "plt.imshow(x_train[0])"
   ]
  },
  {
   "cell_type": "code",
   "execution_count": 4,
   "metadata": {},
   "outputs": [
    {
     "name": "stderr",
     "output_type": "stream",
     "text": [
      "WARNING: Logging before flag parsing goes to stderr.\n",
      "W0828 14:38:04.330862 4455196096 deprecation_wrapper.py:119] From /Users/seino/anaconda3/lib/python3.7/site-packages/keras/backend/tensorflow_backend.py:131: The name tf.get_default_graph is deprecated. Please use tf.compat.v1.get_default_graph instead.\n",
      "\n",
      "W0828 14:38:04.337694 4455196096 deprecation.py:506] From /Users/seino/anaconda3/lib/python3.7/site-packages/keras/backend/tensorflow_backend.py:3445: calling dropout (from tensorflow.python.ops.nn_ops) with keep_prob is deprecated and will be removed in a future version.\n",
      "Instructions for updating:\n",
      "Please use `rate` instead of `keep_prob`. Rate should be set to `rate = 1 - keep_prob`.\n",
      "W0828 14:38:04.523789 4455196096 deprecation.py:323] From /Users/seino/anaconda3/lib/python3.7/site-packages/tensorflow/python/ops/nn_impl.py:180: add_dispatch_support.<locals>.wrapper (from tensorflow.python.ops.array_ops) is deprecated and will be removed in a future version.\n",
      "Instructions for updating:\n",
      "Use tf.where in 2.0, which has the same broadcast rule as np.where\n"
     ]
    },
    {
     "name": "stdout",
     "output_type": "stream",
     "text": [
      "_________________________________________________________________\n",
      "Layer (type)                 Output Shape              Param #   \n",
      "=================================================================\n",
      "separable_conv2d_1 (Separabl (None, 30, 30, 32)        155       \n",
      "_________________________________________________________________\n",
      "separable_conv2d_2 (Separabl (None, 28, 28, 64)        2400      \n",
      "_________________________________________________________________\n",
      "max_pooling2d_1 (MaxPooling2 (None, 14, 14, 64)        0         \n",
      "_________________________________________________________________\n",
      "dropout_1 (Dropout)          (None, 14, 14, 64)        0         \n",
      "_________________________________________________________________\n",
      "max_pooling2d_2 (MaxPooling2 (None, 7, 7, 64)          0         \n",
      "_________________________________________________________________\n",
      "separable_conv2d_3 (Separabl (None, 5, 5, 64)          4736      \n",
      "_________________________________________________________________\n",
      "separable_conv2d_4 (Separabl (None, 3, 3, 128)         8896      \n",
      "_________________________________________________________________\n",
      "dropout_2 (Dropout)          (None, 3, 3, 128)         0         \n",
      "_________________________________________________________________\n",
      "global_average_pooling2d_1 ( (None, 128)               0         \n",
      "_________________________________________________________________\n",
      "dense_1 (Dense)              (None, 64)                8256      \n",
      "_________________________________________________________________\n",
      "dense_2 (Dense)              (None, 32)                2080      \n",
      "=================================================================\n",
      "Total params: 26,523\n",
      "Trainable params: 26,523\n",
      "Non-trainable params: 0\n",
      "_________________________________________________________________\n"
     ]
    },
    {
     "name": "stderr",
     "output_type": "stream",
     "text": [
      "W0828 14:38:06.661244 4455196096 deprecation_wrapper.py:119] From /Users/seino/anaconda3/lib/python3.7/site-packages/keras/backend/tensorflow_backend.py:986: The name tf.assign_add is deprecated. Please use tf.compat.v1.assign_add instead.\n",
      "\n",
      "W0828 14:38:06.683001 4455196096 deprecation_wrapper.py:119] From /Users/seino/anaconda3/lib/python3.7/site-packages/keras/backend/tensorflow_backend.py:973: The name tf.assign is deprecated. Please use tf.compat.v1.assign instead.\n",
      "\n",
      "W0828 14:38:06.918087 4455196096 deprecation_wrapper.py:119] From /Users/seino/anaconda3/lib/python3.7/site-packages/keras/backend/tensorflow_backend.py:2741: The name tf.Session is deprecated. Please use tf.compat.v1.Session instead.\n",
      "\n",
      "W0828 14:38:06.924386 4455196096 deprecation_wrapper.py:119] From /Users/seino/anaconda3/lib/python3.7/site-packages/keras/backend/tensorflow_backend.py:174: The name tf.get_default_session is deprecated. Please use tf.compat.v1.get_default_session instead.\n",
      "\n"
     ]
    },
    {
     "name": "stdout",
     "output_type": "stream",
     "text": [
      "Train on 22650 samples, validate on 5663 samples\n",
      "Epoch 1/10\n",
      "22650/22650 [==============================] - 32s 1ms/step - loss: 0.5397 - acc: 0.7624 - val_loss: 0.5313 - val_acc: 0.7647\n",
      "Epoch 2/10\n",
      "22650/22650 [==============================] - 30s 1ms/step - loss: 0.4395 - acc: 0.7698 - val_loss: 0.4025 - val_acc: 0.7733\n",
      "Epoch 3/10\n",
      "22650/22650 [==============================] - 30s 1ms/step - loss: 0.3648 - acc: 0.7802 - val_loss: 0.3624 - val_acc: 0.7794\n",
      "Epoch 4/10\n",
      "22650/22650 [==============================] - 31s 1ms/step - loss: 0.3296 - acc: 0.7942 - val_loss: 0.3580 - val_acc: 0.7871\n",
      "Epoch 5/10\n",
      "22650/22650 [==============================] - 30s 1ms/step - loss: 0.3103 - acc: 0.8100 - val_loss: 0.3004 - val_acc: 0.8241\n",
      "Epoch 6/10\n",
      "22650/22650 [==============================] - 31s 1ms/step - loss: 0.2886 - acc: 0.8315 - val_loss: 0.2852 - val_acc: 0.8446\n",
      "Epoch 7/10\n",
      "22650/22650 [==============================] - 31s 1ms/step - loss: 0.2670 - acc: 0.8495 - val_loss: 0.2679 - val_acc: 0.8532\n",
      "Epoch 8/10\n",
      "22650/22650 [==============================] - 30s 1ms/step - loss: 0.2415 - acc: 0.8697 - val_loss: 0.2286 - val_acc: 0.8883\n",
      "Epoch 9/10\n",
      "22650/22650 [==============================] - 30s 1ms/step - loss: 0.2193 - acc: 0.8859 - val_loss: 0.2062 - val_acc: 0.9018\n",
      "Epoch 10/10\n",
      "22650/22650 [==============================] - 30s 1ms/step - loss: 0.1996 - acc: 0.8989 - val_loss: 0.1836 - val_acc: 0.9180\n"
     ]
    },
    {
     "data": {
      "image/png": "[encoded data removed]",
      "text/plain": [
       "<Figure size 432x288 with 1 Axes>"
      ]
     },
     "metadata": {
      "needs_background": "light"
     },
     "output_type": "display_data"
    }
   ],
   "source": [
    "# paramaters\n",
    "hidden_units = 4 #1 is baseline\n",
    "input_param = 32 #32 is baseline\n",
    "dropout_rate = 0.4 #0.1 is baseline\n",
    "batch_p = 60 #100 is baseline\n",
    "epoch_p = 10 #10 is baseline\n",
    "\n",
    "model = models.Sequential()\n",
    "model.add(layers.SeparableConv2D(input_param, 3, activation='relu', input_shape=(height, width, channels)))\n",
    "model.add(layers.SeparableConv2D(input_param*2, 3, activation='relu'))\n",
    "model.add(layers.MaxPooling2D(2))\n",
    "model.add(layers.Dropout(dropout_rate))\n",
    "\n",
    "model.add(layers.MaxPooling2D(2))\n",
    "model.add(layers.SeparableConv2D(input_param*2, 3, activation='relu'))\n",
    "model.add(layers.SeparableConv2D(input_param*4, 3, activation='relu'))\n",
    "model.add(layers.Dropout(dropout_rate))\n",
    "model.add(layers.GlobalAveragePooling2D())\n",
    "\n",
    "model.add(layers.Dense(input_param*2, activation='relu'))\n",
    "model.add(layers.Dense(num_classes, activation='sigmoid'))\n",
    "\n",
    "model.compile(optimizer='rmsprop', loss='binary_crossentropy',metrics=['acc'])\n",
    "model.summary()\n",
    "\n",
    "model_arch_name = 'R'+str(input_param)+'-H'+str(hidden_units)+'-D'+str(int(dropout_rate*100))+'-B'+str(batch_p)+'-E'+str(epoch_p)                                                                        \n",
    "plot_model(model, show_shapes=True, to_file='./analysis/'+model_arch_name+'.png')\n",
    "\n",
    "history = model.fit(x_train, y_train, batch_size=batch_p, epochs=epoch_p, validation_data=(x_test, y_test), verbose=1)\n",
    "\n",
    "model.save('./save_models/'+model_arch_name+'.h5')\n",
    "\n",
    "plt.plot(history.history['acc'])\n",
    "plt.plot(history.history['val_acc'])\n",
    "plt.title(model_arch_name)\n",
    "plt.xlabel('epoch')\n",
    "plt.ylabel('accuracy')\n",
    "plt.legend(['train_acc', 'val_acc'], loc='lower right')\n",
    "plt.savefig('./analysis/acc_'+model_arch_name+'.png')\n",
    "plt.show()"
   ]
  },
  {
   "cell_type": "code",
   "execution_count": null,
   "metadata": {},
   "outputs": [],
   "source": []
  }
 ],
 "metadata": {
  "kernelspec": {
   "display_name": "Python 3",
   "language": "python",
   "name": "python3"
  },
  "language_info": {
   "codemirror_mode": {
    "name": "ipython",
    "version": 3
   },
   "file_extension": ".py",
   "mimetype": "text/x-python",
   "name": "python",
   "nbconvert_exporter": "python",
   "pygments_lexer": "ipython3",
   "version": "3.7.3"
  }
 },
 "nbformat": 4,
 "nbformat_minor": 2
}
