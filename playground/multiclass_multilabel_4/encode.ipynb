{
 "cells": [
  {
   "cell_type": "code",
   "execution_count": null,
   "metadata": {
    "lines_to_next_cell": 1
   },
   "outputs": [],
   "source": [
    "import os\n",
    "import numpy as np\n",
    "from keras.preprocessing.image import img_to_array, load_img\n",
    "from sklearn.model_selection import train_test_split"
   ]
  },
  {
   "cell_type": "code",
   "execution_count": null,
   "metadata": {},
   "outputs": [],
   "source": [
    "class DataSet:\n",
    "\n",
    "    def __init__(self, path):\n",
    "        self.path = path\n",
    "        self.img_list = os.listdir(self.path)\n",
    "        try:\n",
    "            self.img_list.remove('.DS_Store')\n",
    "        except:\n",
    "            pass\n",
    "        self.x = []\n",
    "        self.y = []\n",
    "        self.dent = [\n",
    "            11, 12, 13, 14, 15, 16, 17, 18,\n",
    "            21, 22, 23, 24, 25, 26, 27, 28,\n",
    "            31, 32, 33, 34, 35, 36, 37, 38,\n",
    "            41, 42, 43, 44, 45, 46, 47, 48]\n",
    "\n",
    "    def make_digit(self):\n",
    "        for fn in self.img_list:\n",
    "            dst = os.path.join(self.path, fn)\n",
    "            t = img_to_array(load_img(dst))\n",
    "            self.x.append(t)\n",
    "        self.x = np.asarray(self.x)\n",
    "        self.x = self.x.astype('float32')\n",
    "        self.x = self.x/255.0\n",
    "        return self.x\n",
    "\n",
    "    def k_hot_encode(self):\n",
    "        for i in self.img_list:\n",
    "            teeth = [0]*32\n",
    "            re = i.strip('[').strip('.png').strip(']')\n",
    "            mo = re.split(',')\n",
    "            tl = [int(k) for k in mo]\n",
    "            for p in tl:\n",
    "                if p in self.dent:\n",
    "                    m = self.dent.index(p)\n",
    "                    teeth[m] = 1\n",
    "            self.y.append(teeth)\n",
    "        self.y = np.asarray(self.y)\n",
    "        return self.y\n",
    "\n",
    "    def like_mnist(self, x, y, z):\n",
    "        x_train, x_test, y_train, y_test = train_test_split(x, y, test_size=z)\n",
    "        return x_train, x_test, y_train, y_test"
   ]
  }
 ],
 "metadata": {
  "jupytext": {
   "cell_metadata_filter": "-all",
   "notebook_metadata_filter": "-all",
   "text_representation": {
    "extension": ".py",
    "format_name": "light"
   }
  },
  "kernelspec": {
   "display_name": "Python 3",
   "language": "python",
   "name": "python3"
  },
  "language_info": {
   "codemirror_mode": {
    "name": "ipython",
    "version": 3
   },
   "file_extension": ".py",
   "mimetype": "text/x-python",
   "name": "python",
   "nbconvert_exporter": "python",
   "pygments_lexer": "ipython3",
   "version": "3.7.3"
  }
 },
 "nbformat": 4,
 "nbformat_minor": 2
}
