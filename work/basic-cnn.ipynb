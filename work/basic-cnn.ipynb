{
 "cells": [
  {
   "cell_type": "markdown",
   "id": "9e051a70-f12d-457f-839b-cb1bcc4998fd",
   "metadata": {},
   "source": [
    "# 残存歯認識モデル"
   ]
  },
  {
   "cell_type": "markdown",
   "id": "be002933-cc8b-4bf5-b8ae-b3b95010d8e9",
   "metadata": {},
   "source": [
    "## 画像の準備"
   ]
  },
  {
   "cell_type": "code",
   "execution_count": null,
   "id": "03346e58-accb-46ae-9876-f46456bf45da",
   "metadata": {
    "tags": []
   },
   "outputs": [],
   "source": [
    "# 画像データのパス設定\n",
    "import pathlib\n",
    "import numpy as np\n",
    "from sklearn.model_selection import train_test_split\n",
    "\n",
    "img_main_dir = './tmp_img'\n",
    "img_sub_dir = pathlib.Path(img_main_dir).glob('[0,1]*/')\n",
    "label = [np.array(i.name) for i in img_sub_dir]\n",
    "\n",
    "\n",
    "# データの分割\n",
    "train_label, test_label = train_test_split(label)\n",
    "\n",
    "\n",
    "# 通常画像のパス\n",
    "norm_img_path = (pathlib.Path(img_main_dir).glob('*/' + str(i) + '*.png')for i in label)\n",
    "\n",
    "# セグメンテーション画像のパス\n",
    "sgmt_img_path = (pathlib.Path(img_main_dir).glob('*/ss-' + str(i) + '*.png')for i in label)"
   ]
  },
  {
   "cell_type": "markdown",
   "id": "b6b86804-4c60-45d6-80c6-e00c537a506c",
   "metadata": {},
   "source": [
    "## 画像の確認"
   ]
  },
  {
   "cell_type": "code",
   "execution_count": null,
   "id": "20a9846d-6e67-4235-897b-f4826cba7b31",
   "metadata": {},
   "outputs": [],
   "source": [
    "import tensorflow as tf\n",
    "from tensorflow import keras\n",
    "from keras.preprocessing.image import load_img\n",
    "\n",
    "hoge = list(norm_img_path[0])[0]\n",
    "\n",
    "load_img(hoge)"
   ]
  },
  {
   "cell_type": "code",
   "execution_count": null,
   "id": "0ba9a00e-b1d2-4b61-a9f5-bddcc67d7342",
   "metadata": {},
   "outputs": [],
   "source": [
    "type(norm_img_path)"
   ]
  },
  {
   "cell_type": "code",
   "execution_count": null,
   "id": "dbbf20b9-0d80-4ffb-b5f6-6d28185fd3bd",
   "metadata": {},
   "outputs": [],
   "source": []
  },
  {
   "cell_type": "code",
   "execution_count": null,
   "id": "5371f408-0906-4751-8ca0-d3c5c01f64e6",
   "metadata": {},
   "outputs": [],
   "source": []
  },
  {
   "cell_type": "code",
   "execution_count": null,
   "id": "591ad529-40d2-41b5-b2d4-4f58e1eea782",
   "metadata": {},
   "outputs": [],
   "source": []
  },
  {
   "cell_type": "code",
   "execution_count": null,
   "id": "dcd916f9-1408-4fb9-b510-c1a4da2afac5",
   "metadata": {},
   "outputs": [],
   "source": []
  },
  {
   "cell_type": "code",
   "execution_count": null,
   "id": "65555594-ce41-4e44-8394-9dc9308822d2",
   "metadata": {},
   "outputs": [],
   "source": []
  },
  {
   "cell_type": "code",
   "execution_count": null,
   "id": "5ac8a125-4b13-424c-b9bc-6a04cef49814",
   "metadata": {},
   "outputs": [],
   "source": []
  },
  {
   "cell_type": "markdown",
   "id": "e53d384c-6e34-46f8-a51b-89e80bf37007",
   "metadata": {},
   "source": [
    "## モデルの作成"
   ]
  },
  {
   "cell_type": "code",
   "execution_count": 1,
   "id": "4d868b64-bbcd-4088-b2b3-6fe890416b59",
   "metadata": {},
   "outputs": [
    {
     "name": "stdout",
     "output_type": "stream",
     "text": [
      "WARNING:tensorflow:\n",
      "The following Variables were used a Lambda layer's call (tf.compat.v1.nn.separable_conv2d), but\n",
      "are not present in its tracked objects:\n",
      "  <tf.Variable 'separable_conv2d/depthwise_kernel:0' shape=(4, 4, 3, 1) dtype=float32>\n",
      "  <tf.Variable 'separable_conv2d/pointwise_kernel:0' shape=(1, 1, 3, 8) dtype=float32>\n",
      "It is possible that this is intended behavior, but it is more likely\n",
      "an omission. This is a strong indication that this layer should be\n",
      "formulated as a subclassed Layer rather than a Lambda layer.\n",
      "WARNING:tensorflow:\n",
      "The following Variables were used a Lambda layer's call (tf.nn.bias_add), but\n",
      "are not present in its tracked objects:\n",
      "  <tf.Variable 'separable_conv2d/bias:0' shape=(8,) dtype=float32>\n",
      "It is possible that this is intended behavior, but it is more likely\n",
      "an omission. This is a strong indication that this layer should be\n",
      "formulated as a subclassed Layer rather than a Lambda layer.\n",
      "WARNING:tensorflow:\n",
      "The following Variables were used a Lambda layer's call (tf.compat.v1.nn.separable_conv2d_1), but\n",
      "are not present in its tracked objects:\n",
      "  <tf.Variable 'separable_conv2d_1/depthwise_kernel:0' shape=(4, 4, 8, 1) dtype=float32>\n",
      "  <tf.Variable 'separable_conv2d_1/pointwise_kernel:0' shape=(1, 1, 8, 8) dtype=float32>\n",
      "It is possible that this is intended behavior, but it is more likely\n",
      "an omission. This is a strong indication that this layer should be\n",
      "formulated as a subclassed Layer rather than a Lambda layer.\n",
      "WARNING:tensorflow:\n",
      "The following Variables were used a Lambda layer's call (tf.nn.bias_add_1), but\n",
      "are not present in its tracked objects:\n",
      "  <tf.Variable 'separable_conv2d_1/bias:0' shape=(8,) dtype=float32>\n",
      "It is possible that this is intended behavior, but it is more likely\n",
      "an omission. This is a strong indication that this layer should be\n",
      "formulated as a subclassed Layer rather than a Lambda layer.\n",
      "('You must install pydot (`pip install pydot`) and install graphviz (see instructions at https://graphviz.gitlab.io/download/) ', 'for plot_model/model_to_dot to work.')\n"
     ]
    }
   ],
   "source": [
    "import tensorflow as tf\n",
    "from tensorflow import keras\n",
    "from keras import layers, models\n",
    "\n",
    "\n",
    "height, width, channel = 512, 512, 3\n",
    "num_class = 32\n",
    "\n",
    "\n",
    "# 入力\n",
    "input_layer = keras.Input(shape=(height,width,channel))\n",
    "\n",
    "\n",
    "# 右側画像に対するブランチ\n",
    "brch_r = layers.SeparableConv2D(8, 4, activation='relu')(input_layer)\n",
    "brch_r = layers.SeparableConv2D(8, 4, activation='relu')(brch_r)\n",
    "\n",
    "\n",
    "model = keras.models.Model(input_layer, [brch_r])\n",
    "\n",
    "keras.utils.plot_model(model, show_shapes=True)"
   ]
  },
  {
   "cell_type": "code",
   "execution_count": null,
   "id": "8528ae5e-0b6c-469c-a5b2-098eea7b9db3",
   "metadata": {},
   "outputs": [],
   "source": []
  },
  {
   "cell_type": "code",
   "execution_count": null,
   "id": "e56d671a-ecb7-4723-a644-6dd23ff7020f",
   "metadata": {},
   "outputs": [],
   "source": []
  },
  {
   "cell_type": "code",
   "execution_count": null,
   "id": "98e59079-aebd-495d-ba02-7de472a55e3d",
   "metadata": {},
   "outputs": [],
   "source": []
  },
  {
   "cell_type": "code",
   "execution_count": null,
   "id": "063bc07b-bc9f-4372-9c26-91121b7518cb",
   "metadata": {},
   "outputs": [],
   "source": []
  },
  {
   "cell_type": "code",
   "execution_count": null,
   "id": "5e389c4e-6a3a-4c59-8750-2a0c3bfc9ec5",
   "metadata": {},
   "outputs": [],
   "source": []
  },
  {
   "cell_type": "code",
   "execution_count": null,
   "id": "73757484-b36f-4ef1-94d5-40060875bae6",
   "metadata": {},
   "outputs": [],
   "source": []
  },
  {
   "cell_type": "code",
   "execution_count": null,
   "id": "ac2550af-471a-49f6-a38d-96c6d4177a84",
   "metadata": {},
   "outputs": [],
   "source": []
  },
  {
   "cell_type": "code",
   "execution_count": null,
   "id": "188d16ad-63f8-4d94-9627-67cdc3164016",
   "metadata": {},
   "outputs": [],
   "source": []
  },
  {
   "cell_type": "code",
   "execution_count": null,
   "id": "a2addeb9-819c-46ce-be3a-c4beb110fb8e",
   "metadata": {},
   "outputs": [],
   "source": []
  },
  {
   "cell_type": "code",
   "execution_count": null,
   "id": "e98285bb-c93c-40dd-818e-5f27b30dbdfa",
   "metadata": {},
   "outputs": [],
   "source": []
  },
  {
   "cell_type": "code",
   "execution_count": null,
   "id": "ae02ae08-c51d-4186-b2ba-3e2c62561f06",
   "metadata": {},
   "outputs": [],
   "source": []
  }
 ],
 "metadata": {
  "kernelspec": {
   "display_name": "Python 3",
   "language": "python",
   "name": "python3"
  },
  "language_info": {
   "codemirror_mode": {
    "name": "ipython",
    "version": 3
   },
   "file_extension": ".py",
   "mimetype": "text/x-python",
   "name": "python",
   "nbconvert_exporter": "python",
   "pygments_lexer": "ipython3",
   "version": "3.8.10"
  }
 },
 "nbformat": 4,
 "nbformat_minor": 5
}
