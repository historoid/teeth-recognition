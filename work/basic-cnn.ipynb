{
 "cells": [
  {
   "cell_type": "markdown",
   "id": "9e051a70-f12d-457f-839b-cb1bcc4998fd",
   "metadata": {},
   "source": [
    "# 残存歯認識モデル"
   ]
  },
  {
   "cell_type": "markdown",
   "id": "be002933-cc8b-4bf5-b8ae-b3b95010d8e9",
   "metadata": {},
   "source": [
    "## 画像の準備"
   ]
  },
  {
   "cell_type": "code",
   "execution_count": 56,
   "id": "03346e58-accb-46ae-9876-f46456bf45da",
   "metadata": {
    "tags": []
   },
   "outputs": [],
   "source": [
    "# 画像データのパス設定\n",
    "import pathlib\n",
    "import numpy as np\n",
    "\n",
    "img_main_dir = './tmp_img'\n",
    "img_sub_dir = pathlib.Path(img_main_dir).glob('[0,1]*/')\n",
    "labels = [np.array(i.name) for i in img_sub_dir]\n",
    "\n",
    "# 通常の画像\n",
    "normal_img_path = [pathlib.Path(img_main_dir).glob('*/' + str(i) + '*.png')for i in labels]\n",
    "\n",
    "# セグメンテーション画像\n",
    "segment_img_path = [pathlib.Path(img_main_dir).glob('*/ss-' + str(i) + '*.png')for i in labels]"
   ]
  },
  {
   "cell_type": "code",
   "execution_count": 54,
   "id": "1d805a0a-a0fe-481c-b60f-171b96fafd85",
   "metadata": {},
   "outputs": [
    {
     "data": {
      "text/plain": [
       "generator"
      ]
     },
     "execution_count": 54,
     "metadata": {},
     "output_type": "execute_result"
    }
   ],
   "source": [
    "type(normal_img_path[0])"
   ]
  },
  {
   "cell_type": "code",
   "execution_count": 58,
   "id": "20a9846d-6e67-4235-897b-f4826cba7b31",
   "metadata": {},
   "outputs": [
    {
     "name": "stdout",
     "output_type": "stream",
     "text": [
      "tmp_img/0000000000001000111011011000/ss-0000000000001000111011011000-Front.png\n",
      "tmp_img/0000000000001000111011011000/ss-0000000000001000111011011000-Left.png\n",
      "tmp_img/0000000000001000111011011000/ss-0000000000001000111011011000-Low_Occ.png\n",
      "tmp_img/0000000000001000111011011000/ss-0000000000001000111011011000-Right.png\n",
      "tmp_img/0000000000001000111011011000/ss-0000000000001000111011011000-Up_Occ.png\n"
     ]
    }
   ],
   "source": [
    "for i in segment_img_path[0]:\n",
    "    print(i)"
   ]
  },
  {
   "cell_type": "code",
   "execution_count": null,
   "id": "0595f8d7-3e85-44d8-ac9f-5a4290cbf0a6",
   "metadata": {},
   "outputs": [],
   "source": []
  },
  {
   "cell_type": "code",
   "execution_count": null,
   "id": "71061809-7ae6-4beb-8c74-d379a1f650b5",
   "metadata": {},
   "outputs": [],
   "source": []
  },
  {
   "cell_type": "code",
   "execution_count": null,
   "id": "4ae45481-873d-47c1-8a1c-32b0c8c77499",
   "metadata": {},
   "outputs": [],
   "source": []
  },
  {
   "cell_type": "code",
   "execution_count": null,
   "id": "0ba9a00e-b1d2-4b61-a9f5-bddcc67d7342",
   "metadata": {},
   "outputs": [],
   "source": []
  },
  {
   "cell_type": "code",
   "execution_count": null,
   "id": "dbbf20b9-0d80-4ffb-b5f6-6d28185fd3bd",
   "metadata": {},
   "outputs": [],
   "source": []
  },
  {
   "cell_type": "code",
   "execution_count": null,
   "id": "5371f408-0906-4751-8ca0-d3c5c01f64e6",
   "metadata": {},
   "outputs": [],
   "source": []
  },
  {
   "cell_type": "code",
   "execution_count": null,
   "id": "591ad529-40d2-41b5-b2d4-4f58e1eea782",
   "metadata": {},
   "outputs": [],
   "source": []
  },
  {
   "cell_type": "code",
   "execution_count": null,
   "id": "dcd916f9-1408-4fb9-b510-c1a4da2afac5",
   "metadata": {},
   "outputs": [],
   "source": []
  },
  {
   "cell_type": "code",
   "execution_count": null,
   "id": "65555594-ce41-4e44-8394-9dc9308822d2",
   "metadata": {},
   "outputs": [],
   "source": []
  },
  {
   "cell_type": "code",
   "execution_count": null,
   "id": "5ac8a125-4b13-424c-b9bc-6a04cef49814",
   "metadata": {},
   "outputs": [],
   "source": []
  },
  {
   "cell_type": "code",
   "execution_count": null,
   "id": "8906d31a-c45d-4a52-9aa9-d7ba9a7b1697",
   "metadata": {},
   "outputs": [],
   "source": []
  },
  {
   "cell_type": "code",
   "execution_count": null,
   "id": "4d868b64-bbcd-4088-b2b3-6fe890416b59",
   "metadata": {},
   "outputs": [],
   "source": []
  },
  {
   "cell_type": "code",
   "execution_count": null,
   "id": "8528ae5e-0b6c-469c-a5b2-098eea7b9db3",
   "metadata": {},
   "outputs": [],
   "source": []
  },
  {
   "cell_type": "code",
   "execution_count": null,
   "id": "e56d671a-ecb7-4723-a644-6dd23ff7020f",
   "metadata": {},
   "outputs": [],
   "source": []
  },
  {
   "cell_type": "code",
   "execution_count": null,
   "id": "98e59079-aebd-495d-ba02-7de472a55e3d",
   "metadata": {},
   "outputs": [],
   "source": []
  },
  {
   "cell_type": "code",
   "execution_count": null,
   "id": "063bc07b-bc9f-4372-9c26-91121b7518cb",
   "metadata": {},
   "outputs": [],
   "source": []
  },
  {
   "cell_type": "code",
   "execution_count": null,
   "id": "5e389c4e-6a3a-4c59-8750-2a0c3bfc9ec5",
   "metadata": {},
   "outputs": [],
   "source": []
  },
  {
   "cell_type": "code",
   "execution_count": null,
   "id": "73757484-b36f-4ef1-94d5-40060875bae6",
   "metadata": {},
   "outputs": [],
   "source": []
  },
  {
   "cell_type": "code",
   "execution_count": null,
   "id": "ac2550af-471a-49f6-a38d-96c6d4177a84",
   "metadata": {},
   "outputs": [],
   "source": []
  },
  {
   "cell_type": "code",
   "execution_count": null,
   "id": "188d16ad-63f8-4d94-9627-67cdc3164016",
   "metadata": {},
   "outputs": [],
   "source": []
  },
  {
   "cell_type": "code",
   "execution_count": null,
   "id": "a2addeb9-819c-46ce-be3a-c4beb110fb8e",
   "metadata": {},
   "outputs": [],
   "source": []
  },
  {
   "cell_type": "code",
   "execution_count": null,
   "id": "e98285bb-c93c-40dd-818e-5f27b30dbdfa",
   "metadata": {},
   "outputs": [],
   "source": []
  },
  {
   "cell_type": "code",
   "execution_count": null,
   "id": "ae02ae08-c51d-4186-b2ba-3e2c62561f06",
   "metadata": {},
   "outputs": [],
   "source": []
  }
 ],
 "metadata": {
  "kernelspec": {
   "display_name": "Python 3",
   "language": "python",
   "name": "python3"
  },
  "language_info": {
   "codemirror_mode": {
    "name": "ipython",
    "version": 3
   },
   "file_extension": ".py",
   "mimetype": "text/x-python",
   "name": "python",
   "nbconvert_exporter": "python",
   "pygments_lexer": "ipython3",
   "version": "3.9.4"
  }
 },
 "nbformat": 4,
 "nbformat_minor": 5
}
